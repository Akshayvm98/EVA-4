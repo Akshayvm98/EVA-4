{
  "nbformat": 4,
  "nbformat_minor": 0,
  "metadata": {
    "colab": {
      "name": "S12-KMeans.ipynb",
      "provenance": [],
      "collapsed_sections": [],
      "include_colab_link": true
    },
    "kernelspec": {
      "name": "python3",
      "display_name": "Python 3"
    }
  },
  "cells": [
    {
      "cell_type": "markdown",
      "metadata": {
        "id": "view-in-github",
        "colab_type": "text"
      },
      "source": [
        "<a href=\"https://colab.research.google.com/github/adithyabalakumar/EVA-4/blob/master/S12/S12_KMeans.ipynb\" target=\"_parent\"><img src=\"https://colab.research.google.com/assets/colab-badge.svg\" alt=\"Open In Colab\"/></a>"
      ]
    },
    {
      "cell_type": "code",
      "metadata": {
        "id": "aRfdFrW_Zg7T",
        "colab_type": "code",
        "outputId": "09763e70-2bc9-409a-c69d-5db7e90c3ccc",
        "colab": {
          "base_uri": "https://localhost:8080/",
          "height": 34
        }
      },
      "source": [
        "# mount gdrive and unzip data\n",
        "from google.colab import drive\n",
        "drive.mount('/content/gdrive')"
      ],
      "execution_count": 16,
      "outputs": [
        {
          "output_type": "stream",
          "text": [
            "Drive already mounted at /content/gdrive; to attempt to forcibly remount, call drive.mount(\"/content/gdrive\", force_remount=True).\n"
          ],
          "name": "stdout"
        }
      ]
    },
    {
      "cell_type": "code",
      "metadata": {
        "id": "Js1xqRmGZ03a",
        "colab_type": "code",
        "colab": {}
      },
      "source": [
        "import sys\n",
        "import os \n",
        "workingdir = '/content/gdrive/My Drive/Colab Notebooks/S12'\n",
        "sys.path.append(workingdir)"
      ],
      "execution_count": 0,
      "outputs": []
    },
    {
      "cell_type": "code",
      "metadata": {
        "id": "cAz2fWfAa5Sd",
        "colab_type": "code",
        "colab": {}
      },
      "source": [
        "import numpy as np\n",
        "import pandas as pd\n",
        "import json\n",
        "from matplotlib import pyplot as plt\n",
        "from sklearn.datasets.samples_generator import make_blobs\n",
        "from sklearn.cluster import KMeans"
      ],
      "execution_count": 0,
      "outputs": []
    },
    {
      "cell_type": "code",
      "metadata": {
        "id": "CLGVEbuhveqc",
        "colab_type": "code",
        "outputId": "360bc414-7d44-4e78-867c-73d9c601072c",
        "colab": {
          "base_uri": "https://localhost:8080/",
          "height": 34
        }
      },
      "source": [
        "#Read COCO JSON File\n",
        "fptr = open('/content/gdrive/My Drive/Colab Notebooks/S12/dog_coco.json')\n",
        "data = json.load(fptr)\n",
        "print(data.keys())"
      ],
      "execution_count": 19,
      "outputs": [
        {
          "output_type": "stream",
          "text": [
            "dict_keys(['info', 'images', 'annotations', 'licenses', 'categories'])\n"
          ],
          "name": "stdout"
        }
      ]
    },
    {
      "cell_type": "code",
      "metadata": {
        "id": "jQFKeSOqvf0R",
        "colab_type": "code",
        "colab": {}
      },
      "source": [
        "#Extract Details\n",
        "images_df = pd.DataFrame(data['images'], columns = data['images'][0].keys())\n",
        "annotations_df = pd.DataFrame(data['annotations'], columns = data['annotations'][0].keys())"
      ],
      "execution_count": 0,
      "outputs": []
    },
    {
      "cell_type": "code",
      "metadata": {
        "id": "H6v72mkjwFj1",
        "colab_type": "code",
        "outputId": "03d564bd-9e8c-46ad-e908-e502b786b7ee",
        "colab": {
          "base_uri": "https://localhost:8080/",
          "height": 204
        }
      },
      "source": [
        "images_df.head()"
      ],
      "execution_count": 12,
      "outputs": [
        {
          "output_type": "execute_result",
          "data": {
            "text/html": [
              "<div>\n",
              "<style scoped>\n",
              "    .dataframe tbody tr th:only-of-type {\n",
              "        vertical-align: middle;\n",
              "    }\n",
              "\n",
              "    .dataframe tbody tr th {\n",
              "        vertical-align: top;\n",
              "    }\n",
              "\n",
              "    .dataframe thead th {\n",
              "        text-align: right;\n",
              "    }\n",
              "</style>\n",
              "<table border=\"1\" class=\"dataframe\">\n",
              "  <thead>\n",
              "    <tr style=\"text-align: right;\">\n",
              "      <th></th>\n",
              "      <th>id</th>\n",
              "      <th>width</th>\n",
              "      <th>height</th>\n",
              "      <th>file_name</th>\n",
              "      <th>license</th>\n",
              "      <th>date_captured</th>\n",
              "    </tr>\n",
              "  </thead>\n",
              "  <tbody>\n",
              "    <tr>\n",
              "      <th>0</th>\n",
              "      <td>0</td>\n",
              "      <td>382</td>\n",
              "      <td>478</td>\n",
              "      <td>dogs_00001.jpg</td>\n",
              "      <td>1</td>\n",
              "      <td></td>\n",
              "    </tr>\n",
              "    <tr>\n",
              "      <th>1</th>\n",
              "      <td>1</td>\n",
              "      <td>321</td>\n",
              "      <td>260</td>\n",
              "      <td>dogs_00002.jpg</td>\n",
              "      <td>1</td>\n",
              "      <td></td>\n",
              "    </tr>\n",
              "    <tr>\n",
              "      <th>2</th>\n",
              "      <td>2</td>\n",
              "      <td>320</td>\n",
              "      <td>271</td>\n",
              "      <td>dogs_00003.jpg</td>\n",
              "      <td>1</td>\n",
              "      <td></td>\n",
              "    </tr>\n",
              "    <tr>\n",
              "      <th>3</th>\n",
              "      <td>3</td>\n",
              "      <td>327</td>\n",
              "      <td>499</td>\n",
              "      <td>dogs_00004.jpg</td>\n",
              "      <td>1</td>\n",
              "      <td></td>\n",
              "    </tr>\n",
              "    <tr>\n",
              "      <th>4</th>\n",
              "      <td>4</td>\n",
              "      <td>350</td>\n",
              "      <td>260</td>\n",
              "      <td>dogs_00005.jpg</td>\n",
              "      <td>1</td>\n",
              "      <td></td>\n",
              "    </tr>\n",
              "  </tbody>\n",
              "</table>\n",
              "</div>"
            ],
            "text/plain": [
              "   id  width  height       file_name  license date_captured\n",
              "0   0    382     478  dogs_00001.jpg        1              \n",
              "1   1    321     260  dogs_00002.jpg        1              \n",
              "2   2    320     271  dogs_00003.jpg        1              \n",
              "3   3    327     499  dogs_00004.jpg        1              \n",
              "4   4    350     260  dogs_00005.jpg        1              "
            ]
          },
          "metadata": {
            "tags": []
          },
          "execution_count": 12
        }
      ]
    },
    {
      "cell_type": "code",
      "metadata": {
        "id": "ZZLbCcyCwFd1",
        "colab_type": "code",
        "outputId": "1768918f-1b3a-42ca-f99d-5f878d84c4bb",
        "colab": {
          "base_uri": "https://localhost:8080/",
          "height": 204
        }
      },
      "source": [
        "annotations_df.head()"
      ],
      "execution_count": 23,
      "outputs": [
        {
          "output_type": "execute_result",
          "data": {
            "text/html": [
              "<div>\n",
              "<style scoped>\n",
              "    .dataframe tbody tr th:only-of-type {\n",
              "        vertical-align: middle;\n",
              "    }\n",
              "\n",
              "    .dataframe tbody tr th {\n",
              "        vertical-align: top;\n",
              "    }\n",
              "\n",
              "    .dataframe thead th {\n",
              "        text-align: right;\n",
              "    }\n",
              "</style>\n",
              "<table border=\"1\" class=\"dataframe\">\n",
              "  <thead>\n",
              "    <tr style=\"text-align: right;\">\n",
              "      <th></th>\n",
              "      <th>id</th>\n",
              "      <th>image_id</th>\n",
              "      <th>category_id</th>\n",
              "      <th>segmentation</th>\n",
              "      <th>area</th>\n",
              "      <th>bbox</th>\n",
              "      <th>iscrowd</th>\n",
              "    </tr>\n",
              "  </thead>\n",
              "  <tbody>\n",
              "    <tr>\n",
              "      <th>0</th>\n",
              "      <td>0</td>\n",
              "      <td>0</td>\n",
              "      <td>1</td>\n",
              "      <td>[66, 33, 352, 33, 352, 449, 66, 449]</td>\n",
              "      <td>118976</td>\n",
              "      <td>[66, 33, 286, 416]</td>\n",
              "      <td>0</td>\n",
              "    </tr>\n",
              "    <tr>\n",
              "      <th>1</th>\n",
              "      <td>1</td>\n",
              "      <td>1</td>\n",
              "      <td>1</td>\n",
              "      <td>[62, 8, 299, 8, 299, 233, 62, 233]</td>\n",
              "      <td>53325</td>\n",
              "      <td>[62, 8, 237, 225]</td>\n",
              "      <td>0</td>\n",
              "    </tr>\n",
              "    <tr>\n",
              "      <th>2</th>\n",
              "      <td>2</td>\n",
              "      <td>2</td>\n",
              "      <td>1</td>\n",
              "      <td>[24, 11, 290, 11, 290, 237, 24, 237]</td>\n",
              "      <td>60116</td>\n",
              "      <td>[24, 11, 266, 226]</td>\n",
              "      <td>0</td>\n",
              "    </tr>\n",
              "    <tr>\n",
              "      <th>3</th>\n",
              "      <td>3</td>\n",
              "      <td>3</td>\n",
              "      <td>1</td>\n",
              "      <td>[29, 16, 309, 16, 309, 482, 29, 482]</td>\n",
              "      <td>130480</td>\n",
              "      <td>[29, 16, 280, 466]</td>\n",
              "      <td>0</td>\n",
              "    </tr>\n",
              "    <tr>\n",
              "      <th>4</th>\n",
              "      <td>4</td>\n",
              "      <td>4</td>\n",
              "      <td>1</td>\n",
              "      <td>[31, 16, 327, 16, 327, 210, 31, 210]</td>\n",
              "      <td>57424</td>\n",
              "      <td>[31, 16, 296, 194]</td>\n",
              "      <td>0</td>\n",
              "    </tr>\n",
              "  </tbody>\n",
              "</table>\n",
              "</div>"
            ],
            "text/plain": [
              "   id image_id  category_id  ...    area                bbox iscrowd\n",
              "0   0        0            1  ...  118976  [66, 33, 286, 416]       0\n",
              "1   1        1            1  ...   53325   [62, 8, 237, 225]       0\n",
              "2   2        2            1  ...   60116  [24, 11, 266, 226]       0\n",
              "3   3        3            1  ...  130480  [29, 16, 280, 466]       0\n",
              "4   4        4            1  ...   57424  [31, 16, 296, 194]       0\n",
              "\n",
              "[5 rows x 7 columns]"
            ]
          },
          "metadata": {
            "tags": []
          },
          "execution_count": 23
        }
      ]
    },
    {
      "cell_type": "code",
      "metadata": {
        "id": "W9L-5pvawZgi",
        "colab_type": "code",
        "colab": {}
      },
      "source": [
        "#Extract the Box Dimensions\n",
        "dogs_df = pd.concat([images_df, annotations_df], 1)[['file_name', 'width', 'height', 'bbox']]\n",
        "x_list = []\n",
        "y_list = []\n",
        "w_list = []\n",
        "h_list = [] \n",
        "for row in range(dogs_df.shape[0]):\n",
        "  x = dogs_df['bbox'][row][0]\n",
        "  y = dogs_df['bbox'][row][1]\n",
        "  w = dogs_df['bbox'][row][2]\n",
        "  h = dogs_df['bbox'][row][3]\n",
        "  x_list.append(x)\n",
        "  y_list.append(y)\n",
        "  w_list.append(w)\n",
        "  h_list.append(h)\n",
        "box_df = pd.DataFrame(list(zip(x_list, y_list, w_list, h_list)), columns =['x', 'y', 'box_width', 'box_height'])\n",
        "dogs_df = pd.concat([dogs_df, box_df], 1)\n",
        "dogs_df = dogs_df.drop('bbox', axis =1)"
      ],
      "execution_count": 0,
      "outputs": []
    },
    {
      "cell_type": "code",
      "metadata": {
        "id": "M2-VLtMZwoqO",
        "colab_type": "code",
        "outputId": "83cb23af-6c95-4e30-c8e8-e445ab973985",
        "colab": {
          "base_uri": "https://localhost:8080/",
          "height": 204
        }
      },
      "source": [
        "dogs_df.head()"
      ],
      "execution_count": 25,
      "outputs": [
        {
          "output_type": "execute_result",
          "data": {
            "text/html": [
              "<div>\n",
              "<style scoped>\n",
              "    .dataframe tbody tr th:only-of-type {\n",
              "        vertical-align: middle;\n",
              "    }\n",
              "\n",
              "    .dataframe tbody tr th {\n",
              "        vertical-align: top;\n",
              "    }\n",
              "\n",
              "    .dataframe thead th {\n",
              "        text-align: right;\n",
              "    }\n",
              "</style>\n",
              "<table border=\"1\" class=\"dataframe\">\n",
              "  <thead>\n",
              "    <tr style=\"text-align: right;\">\n",
              "      <th></th>\n",
              "      <th>file_name</th>\n",
              "      <th>width</th>\n",
              "      <th>height</th>\n",
              "      <th>x</th>\n",
              "      <th>y</th>\n",
              "      <th>box_width</th>\n",
              "      <th>box_height</th>\n",
              "    </tr>\n",
              "  </thead>\n",
              "  <tbody>\n",
              "    <tr>\n",
              "      <th>0</th>\n",
              "      <td>dogs_00001.jpg</td>\n",
              "      <td>382</td>\n",
              "      <td>478</td>\n",
              "      <td>66</td>\n",
              "      <td>33</td>\n",
              "      <td>286</td>\n",
              "      <td>416</td>\n",
              "    </tr>\n",
              "    <tr>\n",
              "      <th>1</th>\n",
              "      <td>dogs_00002.jpg</td>\n",
              "      <td>321</td>\n",
              "      <td>260</td>\n",
              "      <td>62</td>\n",
              "      <td>8</td>\n",
              "      <td>237</td>\n",
              "      <td>225</td>\n",
              "    </tr>\n",
              "    <tr>\n",
              "      <th>2</th>\n",
              "      <td>dogs_00003.jpg</td>\n",
              "      <td>320</td>\n",
              "      <td>271</td>\n",
              "      <td>24</td>\n",
              "      <td>11</td>\n",
              "      <td>266</td>\n",
              "      <td>226</td>\n",
              "    </tr>\n",
              "    <tr>\n",
              "      <th>3</th>\n",
              "      <td>dogs_00004.jpg</td>\n",
              "      <td>327</td>\n",
              "      <td>499</td>\n",
              "      <td>29</td>\n",
              "      <td>16</td>\n",
              "      <td>280</td>\n",
              "      <td>466</td>\n",
              "    </tr>\n",
              "    <tr>\n",
              "      <th>4</th>\n",
              "      <td>dogs_00005.jpg</td>\n",
              "      <td>350</td>\n",
              "      <td>260</td>\n",
              "      <td>31</td>\n",
              "      <td>16</td>\n",
              "      <td>296</td>\n",
              "      <td>194</td>\n",
              "    </tr>\n",
              "  </tbody>\n",
              "</table>\n",
              "</div>"
            ],
            "text/plain": [
              "        file_name  width  height   x   y  box_width  box_height\n",
              "0  dogs_00001.jpg    382     478  66  33        286         416\n",
              "1  dogs_00002.jpg    321     260  62   8        237         225\n",
              "2  dogs_00003.jpg    320     271  24  11        266         226\n",
              "3  dogs_00004.jpg    327     499  29  16        280         466\n",
              "4  dogs_00005.jpg    350     260  31  16        296         194"
            ]
          },
          "metadata": {
            "tags": []
          },
          "execution_count": 25
        }
      ]
    },
    {
      "cell_type": "code",
      "metadata": {
        "id": "ofEdrLij3s44",
        "colab_type": "code",
        "colab": {}
      },
      "source": [
        "#Normalize the Box Dimensions based on Image Height and Width\n",
        "dogs_df['x'] = dogs_df['x'] / dogs_df['width']\n",
        "dogs_df['y'] = dogs_df['y'] / dogs_df['height']\n",
        "dogs_df['box_width'] = dogs_df['box_width'] / dogs_df['width']\n",
        "dogs_df['box_height'] = dogs_df['box_height'] / dogs_df['height']"
      ],
      "execution_count": 0,
      "outputs": []
    },
    {
      "cell_type": "code",
      "metadata": {
        "id": "oaCsfBhk4XDb",
        "colab_type": "code",
        "outputId": "9a6bc3ed-bafb-4c18-8711-35adbfd9d77a",
        "colab": {
          "base_uri": "https://localhost:8080/",
          "height": 204
        }
      },
      "source": [
        "dogs_df.head()"
      ],
      "execution_count": 27,
      "outputs": [
        {
          "output_type": "execute_result",
          "data": {
            "text/html": [
              "<div>\n",
              "<style scoped>\n",
              "    .dataframe tbody tr th:only-of-type {\n",
              "        vertical-align: middle;\n",
              "    }\n",
              "\n",
              "    .dataframe tbody tr th {\n",
              "        vertical-align: top;\n",
              "    }\n",
              "\n",
              "    .dataframe thead th {\n",
              "        text-align: right;\n",
              "    }\n",
              "</style>\n",
              "<table border=\"1\" class=\"dataframe\">\n",
              "  <thead>\n",
              "    <tr style=\"text-align: right;\">\n",
              "      <th></th>\n",
              "      <th>file_name</th>\n",
              "      <th>width</th>\n",
              "      <th>height</th>\n",
              "      <th>x</th>\n",
              "      <th>y</th>\n",
              "      <th>box_width</th>\n",
              "      <th>box_height</th>\n",
              "    </tr>\n",
              "  </thead>\n",
              "  <tbody>\n",
              "    <tr>\n",
              "      <th>0</th>\n",
              "      <td>dogs_00001.jpg</td>\n",
              "      <td>382</td>\n",
              "      <td>478</td>\n",
              "      <td>0.172775</td>\n",
              "      <td>0.069038</td>\n",
              "      <td>0.748691</td>\n",
              "      <td>0.870293</td>\n",
              "    </tr>\n",
              "    <tr>\n",
              "      <th>1</th>\n",
              "      <td>dogs_00002.jpg</td>\n",
              "      <td>321</td>\n",
              "      <td>260</td>\n",
              "      <td>0.193146</td>\n",
              "      <td>0.030769</td>\n",
              "      <td>0.738318</td>\n",
              "      <td>0.865385</td>\n",
              "    </tr>\n",
              "    <tr>\n",
              "      <th>2</th>\n",
              "      <td>dogs_00003.jpg</td>\n",
              "      <td>320</td>\n",
              "      <td>271</td>\n",
              "      <td>0.075000</td>\n",
              "      <td>0.040590</td>\n",
              "      <td>0.831250</td>\n",
              "      <td>0.833948</td>\n",
              "    </tr>\n",
              "    <tr>\n",
              "      <th>3</th>\n",
              "      <td>dogs_00004.jpg</td>\n",
              "      <td>327</td>\n",
              "      <td>499</td>\n",
              "      <td>0.088685</td>\n",
              "      <td>0.032064</td>\n",
              "      <td>0.856269</td>\n",
              "      <td>0.933868</td>\n",
              "    </tr>\n",
              "    <tr>\n",
              "      <th>4</th>\n",
              "      <td>dogs_00005.jpg</td>\n",
              "      <td>350</td>\n",
              "      <td>260</td>\n",
              "      <td>0.088571</td>\n",
              "      <td>0.061538</td>\n",
              "      <td>0.845714</td>\n",
              "      <td>0.746154</td>\n",
              "    </tr>\n",
              "  </tbody>\n",
              "</table>\n",
              "</div>"
            ],
            "text/plain": [
              "        file_name  width  height         x         y  box_width  box_height\n",
              "0  dogs_00001.jpg    382     478  0.172775  0.069038   0.748691    0.870293\n",
              "1  dogs_00002.jpg    321     260  0.193146  0.030769   0.738318    0.865385\n",
              "2  dogs_00003.jpg    320     271  0.075000  0.040590   0.831250    0.833948\n",
              "3  dogs_00004.jpg    327     499  0.088685  0.032064   0.856269    0.933868\n",
              "4  dogs_00005.jpg    350     260  0.088571  0.061538   0.845714    0.746154"
            ]
          },
          "metadata": {
            "tags": []
          },
          "execution_count": 27
        }
      ]
    },
    {
      "cell_type": "code",
      "metadata": {
        "id": "2qNVEgxJ5tK8",
        "colab_type": "code",
        "colab": {}
      },
      "source": [
        "hw_array = dogs_df[[\"box_width\", \"box_height\"]].to_numpy()"
      ],
      "execution_count": 0,
      "outputs": []
    },
    {
      "cell_type": "code",
      "metadata": {
        "id": "qxoqLwsr5xzk",
        "colab_type": "code",
        "outputId": "7b3fbab2-1587-4fe1-90b6-3783e93ff8b6",
        "colab": {
          "base_uri": "https://localhost:8080/",
          "height": 34
        }
      },
      "source": [
        "hw_array.shape"
      ],
      "execution_count": 29,
      "outputs": [
        {
          "output_type": "execute_result",
          "data": {
            "text/plain": [
              "(54, 2)"
            ]
          },
          "metadata": {
            "tags": []
          },
          "execution_count": 29
        }
      ]
    },
    {
      "cell_type": "code",
      "metadata": {
        "id": "tAn-PzQs57M8",
        "colab_type": "code",
        "outputId": "2ed19d4f-6616-4e48-80ee-2dcbe88caeac",
        "colab": {
          "base_uri": "https://localhost:8080/",
          "height": 282
        }
      },
      "source": [
        "plt.scatter(hw_array[:,0], hw_array[:,1])"
      ],
      "execution_count": 30,
      "outputs": [
        {
          "output_type": "execute_result",
          "data": {
            "text/plain": [
              "<matplotlib.collections.PathCollection at 0x7ff52772d400>"
            ]
          },
          "metadata": {
            "tags": []
          },
          "execution_count": 30
        },
        {
          "output_type": "display_data",
          "data": {
            "image/png": "[encoded data removed]",
            "text/plain": [
              "<Figure size 432x288 with 1 Axes>"
            ]
          },
          "metadata": {
            "tags": [],
            "needs_background": "light"
          }
        }
      ]
    },
    {
      "cell_type": "code",
      "metadata": {
        "id": "SK_3xABC6DC_",
        "colab_type": "code",
        "outputId": "3e9048f1-6f6f-4e31-e6fe-d8485b1c8d4c",
        "colab": {
          "base_uri": "https://localhost:8080/",
          "height": 295
        }
      },
      "source": [
        "#Elbow Method\n",
        "wcss = []\n",
        "for i in range(1, 11):\n",
        "    kmeans = KMeans(n_clusters=i, init='k-means++', max_iter=300, n_init=10, random_state=0)\n",
        "    kmeans.fit(hw_array)\n",
        "    wcss.append(kmeans.inertia_)\n",
        "plt.plot(range(1, 11), wcss)\n",
        "plt.title('Elbow Method')\n",
        "plt.xlabel('Number of clusters')\n",
        "plt.ylabel('WCSS')\n",
        "plt.show()"
      ],
      "execution_count": 31,
      "outputs": [
        {
          "output_type": "display_data",
          "data": {
            "image/png": "[encoded data removed]",
            "text/plain": [
              "<Figure size 432x288 with 1 Axes>"
            ]
          },
          "metadata": {
            "tags": [],
            "needs_background": "light"
          }
        }
      ]
    },
    {
      "cell_type": "code",
      "metadata": {
        "id": "hQY6lMzu7HzB",
        "colab_type": "code",
        "outputId": "8176e23e-66f5-49be-97cb-907c9d7a55fe",
        "colab": {
          "base_uri": "https://localhost:8080/",
          "height": 265
        }
      },
      "source": [
        "#Determine the optimal number of clusters\n",
        "kmeans = KMeans(n_clusters=5, init='k-means++', max_iter=300, n_init=10, random_state=0)\n",
        "pred_y = kmeans.fit_predict(hw_array)\n",
        "plt.scatter(hw_array[:,0], hw_array[:,1])\n",
        "plt.scatter(kmeans.cluster_centers_[:, 0], kmeans.cluster_centers_[:, 1], s=300, c='red')\n",
        "plt.show()"
      ],
      "execution_count": 32,
      "outputs": [
        {
          "output_type": "display_data",
          "data": {
            "image/png": "[encoded data removed]",
            "text/plain": [
              "<Figure size 432x288 with 1 Axes>"
            ]
          },
          "metadata": {
            "tags": [],
            "needs_background": "light"
          }
        }
      ]
    }
  ]
}
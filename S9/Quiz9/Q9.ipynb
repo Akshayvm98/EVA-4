{
  "nbformat": 4,
  "nbformat_minor": 0,
  "metadata": {
    "kernelspec": {
      "name": "python3",
      "display_name": "Python 3"
    },
    "language_info": {
      "codemirror_mode": {
        "name": "ipython",
        "version": 3
      },
      "file_extension": ".py",
      "mimetype": "text/x-python",
      "name": "python",
      "nbconvert_exporter": "python",
      "pygments_lexer": "ipython3",
      "version": "3.6.6"
    },
    "colab": {
      "name": "Q9.ipynb",
      "provenance": [],
      "collapsed_sections": [],
      "include_colab_link": true
    },
    "accelerator": "GPU"
  },
  "cells": [
    {
      "cell_type": "markdown",
      "metadata": {
        "id": "view-in-github",
        "colab_type": "text"
      },
      "source": [
        "<a href=\"https://colab.research.google.com/github/adithyabalakumar/EVA-4/blob/master/S9/Quiz9/Q9.ipynb\" target=\"_parent\"><img src=\"https://colab.research.google.com/assets/colab-badge.svg\" alt=\"Open In Colab\"/></a>"
      ]
    },
    {
      "cell_type": "code",
      "metadata": {
        "id": "lXVXn8j4-4po",
        "colab_type": "code",
        "colab": {
          "base_uri": "https://localhost:8080/",
          "height": 51
        },
        "outputId": "4faf0918-e00a-454a-e978-fa4c4df33e95"
      },
      "source": [
        "from datetime import datetime\n",
        "from pytz import timezone\n",
        "format = \"%Y-%m-%d %H:%M:%S %Z%z\"\n",
        "# Current time in UTC\n",
        "now_utc = datetime.now(timezone('UTC'))\n",
        "print(now_utc.strftime(format))\n",
        "# Convert to Asia/Kolkata time zone\n",
        "now_asia = now_utc.astimezone(timezone('Asia/Kolkata'))\n",
        "print(now_asia.strftime(format))\n"
      ],
      "execution_count": 1,
      "outputs": [
        {
          "output_type": "stream",
          "text": [
            "2020-03-21 17:41:17 UTC+0000\n",
            "2020-03-21 23:11:17 IST+0530\n"
          ],
          "name": "stdout"
        }
      ]
    },
    {
      "cell_type": "code",
      "metadata": {
        "id": "mKuf_Z5prACU",
        "colab_type": "code",
        "outputId": "c88f4f3a-9872-42af-a24b-88b6a462eed9",
        "colab": {
          "base_uri": "https://localhost:8080/",
          "height": 51
        }
      },
      "source": [
        "from google.colab import drive\n",
        "\n",
        "drive.mount('/content/gdrive')\n",
        "%cd /content/gdrive/My\\ Drive/Colab\\ Notebooks/Quiz9/"
      ],
      "execution_count": 2,
      "outputs": [
        {
          "output_type": "stream",
          "text": [
            "Drive already mounted at /content/gdrive; to attempt to forcibly remount, call drive.mount(\"/content/gdrive\", force_remount=True).\n",
            "/content/gdrive/My Drive/Colab Notebooks/Quiz9\n"
          ],
          "name": "stdout"
        }
      ]
    },
    {
      "cell_type": "markdown",
      "metadata": {
        "id": "p7iN7u3rr8DD",
        "colab_type": "text"
      },
      "source": [
        "# Import Libraries"
      ]
    },
    {
      "cell_type": "code",
      "metadata": {
        "id": "G6a3wCYdr3cd",
        "colab_type": "code",
        "colab": {}
      },
      "source": [
        "%matplotlib inline\n",
        "import torch\n",
        "import torchvision\n",
        "import matplotlib.pyplot as plt\n",
        "import numpy as np"
      ],
      "execution_count": 0,
      "outputs": []
    },
    {
      "cell_type": "markdown",
      "metadata": {
        "id": "5kjt4e2TpoCk",
        "colab_type": "text"
      },
      "source": [
        "# Import loader\n",
        "\n",
        "* Initialize train and test loaders from train and test dataset respectively\n",
        "\n",
        "* CUDA check"
      ]
    },
    {
      "cell_type": "code",
      "metadata": {
        "id": "D8Tjigo2poCl",
        "colab_type": "code",
        "outputId": "a91f706e-c9ca-41c7-9f66-f021d4f6dca3",
        "colab": {
          "base_uri": "https://localhost:8080/",
          "height": 68
        }
      },
      "source": [
        "import loader\n",
        "\n",
        "# Initialize CIFAR-10 classes\n",
        "classes = ('plane', 'car', 'bird', 'cat',\n",
        "           'deer', 'dog', 'frog', 'horse', 'ship', 'truck') "
      ],
      "execution_count": 4,
      "outputs": [
        {
          "output_type": "stream",
          "text": [
            "Files already downloaded and verified\n",
            "Files already downloaded and verified\n",
            "CUDA Available? True\n"
          ],
          "name": "stdout"
        }
      ]
    },
    {
      "cell_type": "markdown",
      "metadata": {
        "id": "_cj433rtpoCn",
        "colab_type": "text"
      },
      "source": [
        "# Plot training images"
      ]
    },
    {
      "cell_type": "code",
      "metadata": {
        "id": "daA7bADhpoCo",
        "colab_type": "code",
        "outputId": "e7a2c96d-6513-4a1e-8076-64d254696681",
        "colab": {
          "base_uri": "https://localhost:8080/",
          "height": 172
        }
      },
      "source": [
        "# functions to show an image\n",
        "def imshow(img):\n",
        "    img = img / 2 + 0.5     # unnormalize\n",
        "    npimg = img.numpy()\n",
        "    plt.imshow(np.transpose(npimg, (1, 2, 0)))\n",
        "\n",
        "# get some random training images\n",
        "dataiter = iter(loader.trainloader_for_plot)\n",
        "images, labels = dataiter.next()\n",
        "\n",
        "# show images\n",
        "imshow(torchvision.utils.make_grid(images))\n",
        "\n",
        "# print labels\n",
        "print(' '.join('%5s' % classes[labels[j]] for j in range(4)))"
      ],
      "execution_count": 5,
      "outputs": [
        {
          "output_type": "stream",
          "text": [
            "Clipping input data to the valid range for imshow with RGB data ([0..1] for floats or [0..255] for integers).\n"
          ],
          "name": "stderr"
        },
        {
          "output_type": "stream",
          "text": [
            "plane   dog  deer  deer\n"
          ],
          "name": "stdout"
        },
        {
          "output_type": "display_data",
          "data": {
            "image/png": "[encoded data removed]",
            "text/plain": [
              "<Figure size 432x288 with 1 Axes>"
            ]
          },
          "metadata": {
            "tags": []
          }
        }
      ]
    },
    {
      "cell_type": "markdown",
      "metadata": {
        "id": "28OpHA_LpoCq",
        "colab_type": "text"
      },
      "source": [
        "# Import model\n",
        "\n",
        "Initialize network for the model"
      ]
    },
    {
      "cell_type": "code",
      "metadata": {
        "id": "0jjLwLLQpoCr",
        "colab_type": "code",
        "colab": {}
      },
      "source": [
        "import QuizDNN"
      ],
      "execution_count": 0,
      "outputs": []
    },
    {
      "cell_type": "markdown",
      "metadata": {
        "id": "33lFWPTXw43l",
        "colab_type": "text"
      },
      "source": [
        "# Model parameters"
      ]
    },
    {
      "cell_type": "code",
      "metadata": {
        "id": "YVHE1Rc-xEVa",
        "colab_type": "code",
        "outputId": "a4e34fe0-8fd3-4db1-b054-4e79b32bad22",
        "colab": {
          "base_uri": "https://localhost:8080/",
          "height": 799
        }
      },
      "source": [
        "!pip install torchsummary\n",
        "from torchsummary import summary\n",
        "use_cuda = torch.cuda.is_available()\n",
        "device = torch.device(\"cuda\" if use_cuda else \"cpu\")\n",
        "print(f\"Device: {device}\")\n",
        "net = QuizDNN.QuizDNN().to(device)\n",
        "summary(net, input_size=(3, 32, 32))"
      ],
      "execution_count": 7,
      "outputs": [
        {
          "output_type": "stream",
          "text": [
            "Requirement already satisfied: torchsummary in /usr/local/lib/python3.6/dist-packages (1.5.1)\n",
            "Device: cuda\n",
            "----------------------------------------------------------------\n",
            "        Layer (type)               Output Shape         Param #\n",
            "================================================================\n",
            "            Conv2d-1          [-1, 128, 32, 32]           3,584\n",
            "       BatchNorm2d-2          [-1, 128, 32, 32]             256\n",
            "              ReLU-3          [-1, 128, 32, 32]               0\n",
            "            Conv2d-4          [-1, 128, 32, 32]         147,584\n",
            "       BatchNorm2d-5          [-1, 128, 32, 32]             256\n",
            "              ReLU-6          [-1, 128, 32, 32]               0\n",
            "            Conv2d-7          [-1, 128, 32, 32]         147,584\n",
            "       BatchNorm2d-8          [-1, 128, 32, 32]             256\n",
            "              ReLU-9          [-1, 128, 32, 32]               0\n",
            "        MaxPool2d-10          [-1, 128, 16, 16]               0\n",
            "           Conv2d-11          [-1, 128, 16, 16]         147,584\n",
            "      BatchNorm2d-12          [-1, 128, 16, 16]             256\n",
            "             ReLU-13          [-1, 128, 16, 16]               0\n",
            "           Conv2d-14          [-1, 128, 16, 16]         147,584\n",
            "      BatchNorm2d-15          [-1, 128, 16, 16]             256\n",
            "             ReLU-16          [-1, 128, 16, 16]               0\n",
            "           Conv2d-17          [-1, 128, 16, 16]         147,584\n",
            "      BatchNorm2d-18          [-1, 128, 16, 16]             256\n",
            "             ReLU-19          [-1, 128, 16, 16]               0\n",
            "        MaxPool2d-20            [-1, 128, 8, 8]               0\n",
            "           Conv2d-21            [-1, 128, 8, 8]         147,584\n",
            "      BatchNorm2d-22            [-1, 128, 8, 8]             256\n",
            "             ReLU-23            [-1, 128, 8, 8]               0\n",
            "           Conv2d-24            [-1, 128, 8, 8]         147,584\n",
            "      BatchNorm2d-25            [-1, 128, 8, 8]             256\n",
            "             ReLU-26            [-1, 128, 8, 8]               0\n",
            "           Conv2d-27            [-1, 128, 8, 8]         147,584\n",
            "      BatchNorm2d-28            [-1, 128, 8, 8]             256\n",
            "             ReLU-29            [-1, 128, 8, 8]               0\n",
            "AdaptiveAvgPool2d-30            [-1, 128, 1, 1]               0\n",
            "           Linear-31                   [-1, 10]           1,290\n",
            "================================================================\n",
            "Total params: 1,187,850\n",
            "Trainable params: 1,187,850\n",
            "Non-trainable params: 0\n",
            "----------------------------------------------------------------\n",
            "Input size (MB): 0.01\n",
            "Forward/backward pass size (MB): 12.13\n",
            "Params size (MB): 4.53\n",
            "Estimated Total Size (MB): 16.67\n",
            "----------------------------------------------------------------\n"
          ],
          "name": "stdout"
        }
      ]
    },
    {
      "cell_type": "markdown",
      "metadata": {
        "id": "Wdw2NNCUpoCu",
        "colab_type": "text"
      },
      "source": [
        "# Loss function and optimizer\n",
        "\n"
      ]
    },
    {
      "cell_type": "code",
      "metadata": {
        "id": "M4xBbDROpoCv",
        "colab_type": "code",
        "colab": {}
      },
      "source": [
        "import torch.nn as nn\n",
        "import torch.optim as optim\n",
        "from torch.optim.lr_scheduler import StepLR\n",
        "\n",
        "criterion = nn.CrossEntropyLoss()\n",
        "optimizer = optim.SGD(net.parameters(), lr=0.01, momentum=0.9)\n",
        "scheduler = StepLR(optimizer, step_size=6, gamma=0.2)"
      ],
      "execution_count": 0,
      "outputs": []
    },
    {
      "cell_type": "markdown",
      "metadata": {
        "id": "O-odOrhdpoC2",
        "colab_type": "text"
      },
      "source": [
        "# Training and Testing"
      ]
    },
    {
      "cell_type": "code",
      "metadata": {
        "id": "kkuRfo1IpoC3",
        "colab_type": "code",
        "colab": {}
      },
      "source": [
        "import train\n",
        "import test"
      ],
      "execution_count": 0,
      "outputs": []
    },
    {
      "cell_type": "markdown",
      "metadata": {
        "id": "YLrvL_fHpoC5",
        "colab_type": "text"
      },
      "source": [
        "# Training and testing our model"
      ]
    },
    {
      "cell_type": "code",
      "metadata": {
        "id": "tRZhzMc60Tgz",
        "colab_type": "code",
        "outputId": "de798a14-99d1-4bfc-fc0a-ef2ebad1b615",
        "colab": {
          "base_uri": "https://localhost:8080/",
          "height": 1000
        }
      },
      "source": [
        "epochs = 20\n",
        "\n",
        "for epoch in range(epochs):\n",
        "  train.train(net, device, loader.trainloader, optimizer, criterion, epoch)\n",
        "  scheduler.step()\n",
        "  test.test(net, device, loader.testloader, criterion)"
      ],
      "execution_count": 10,
      "outputs": [
        {
          "output_type": "stream",
          "text": [
            "Epoch= 0 Loss=1.2711777687072754 Batch_id=781 Accuracy=54.22: 100%|██████████| 782/782 [00:36<00:00, 21.52it/s]\n",
            "  0%|          | 0/782 [00:00<?, ?it/s]"
          ],
          "name": "stderr"
        },
        {
          "output_type": "stream",
          "text": [
            "\n",
            "Validation set: Average loss: 0.0242, Accuracy: 4873/10000 (48.73%)\n",
            "\n"
          ],
          "name": "stdout"
        },
        {
          "output_type": "stream",
          "text": [
            "Epoch= 1 Loss=0.6103993654251099 Batch_id=781 Accuracy=70.77: 100%|██████████| 782/782 [00:36<00:00, 21.20it/s]\n",
            "  0%|          | 0/782 [00:00<?, ?it/s]"
          ],
          "name": "stderr"
        },
        {
          "output_type": "stream",
          "text": [
            "\n",
            "Validation set: Average loss: 0.0256, Accuracy: 5328/10000 (53.28%)\n",
            "\n"
          ],
          "name": "stdout"
        },
        {
          "output_type": "stream",
          "text": [
            "Epoch= 2 Loss=0.4644286632537842 Batch_id=781 Accuracy=77.05: 100%|██████████| 782/782 [00:36<00:00, 21.44it/s]\n",
            "  0%|          | 0/782 [00:00<?, ?it/s]"
          ],
          "name": "stderr"
        },
        {
          "output_type": "stream",
          "text": [
            "\n",
            "Validation set: Average loss: 0.0234, Accuracy: 5584/10000 (55.84%)\n",
            "\n"
          ],
          "name": "stdout"
        },
        {
          "output_type": "stream",
          "text": [
            "Epoch= 3 Loss=0.1664414405822754 Batch_id=781 Accuracy=80.93: 100%|██████████| 782/782 [00:36<00:00, 21.17it/s]\n",
            "  0%|          | 0/782 [00:00<?, ?it/s]"
          ],
          "name": "stderr"
        },
        {
          "output_type": "stream",
          "text": [
            "\n",
            "Validation set: Average loss: 0.0157, Accuracy: 6725/10000 (67.25%)\n",
            "\n"
          ],
          "name": "stdout"
        },
        {
          "output_type": "stream",
          "text": [
            "Epoch= 4 Loss=0.4464455842971802 Batch_id=781 Accuracy=83.54: 100%|██████████| 782/782 [00:36<00:00, 21.28it/s]\n",
            "  0%|          | 0/782 [00:00<?, ?it/s]"
          ],
          "name": "stderr"
        },
        {
          "output_type": "stream",
          "text": [
            "\n",
            "Validation set: Average loss: 0.0158, Accuracy: 6940/10000 (69.40%)\n",
            "\n"
          ],
          "name": "stdout"
        },
        {
          "output_type": "stream",
          "text": [
            "Epoch= 5 Loss=0.4188934862613678 Batch_id=781 Accuracy=85.42: 100%|██████████| 782/782 [00:36<00:00, 21.35it/s]\n",
            "  0%|          | 0/782 [00:00<?, ?it/s]"
          ],
          "name": "stderr"
        },
        {
          "output_type": "stream",
          "text": [
            "\n",
            "Validation set: Average loss: 0.0178, Accuracy: 6690/10000 (66.90%)\n",
            "\n"
          ],
          "name": "stdout"
        },
        {
          "output_type": "stream",
          "text": [
            "Epoch= 6 Loss=0.07434689998626709 Batch_id=781 Accuracy=90.21: 100%|██████████| 782/782 [00:36<00:00, 21.28it/s]\n",
            "  0%|          | 0/782 [00:00<?, ?it/s]"
          ],
          "name": "stderr"
        },
        {
          "output_type": "stream",
          "text": [
            "\n",
            "Validation set: Average loss: 0.0066, Accuracy: 8585/10000 (85.85%)\n",
            "\n"
          ],
          "name": "stdout"
        },
        {
          "output_type": "stream",
          "text": [
            "Epoch= 7 Loss=0.345688134431839 Batch_id=781 Accuracy=91.47: 100%|██████████| 782/782 [00:36<00:00, 21.29it/s]\n",
            "  0%|          | 0/782 [00:00<?, ?it/s]"
          ],
          "name": "stderr"
        },
        {
          "output_type": "stream",
          "text": [
            "\n",
            "Validation set: Average loss: 0.0071, Accuracy: 8446/10000 (84.46%)\n",
            "\n"
          ],
          "name": "stdout"
        },
        {
          "output_type": "stream",
          "text": [
            "Epoch= 8 Loss=0.41257643699645996 Batch_id=781 Accuracy=92.14: 100%|██████████| 782/782 [00:36<00:00, 21.25it/s]\n",
            "  0%|          | 0/782 [00:00<?, ?it/s]"
          ],
          "name": "stderr"
        },
        {
          "output_type": "stream",
          "text": [
            "\n",
            "Validation set: Average loss: 0.0076, Accuracy: 8349/10000 (83.49%)\n",
            "\n"
          ],
          "name": "stdout"
        },
        {
          "output_type": "stream",
          "text": [
            "Epoch= 9 Loss=0.5697872042655945 Batch_id=781 Accuracy=92.92: 100%|██████████| 782/782 [00:36<00:00, 21.34it/s]\n",
            "  0%|          | 0/782 [00:00<?, ?it/s]"
          ],
          "name": "stderr"
        },
        {
          "output_type": "stream",
          "text": [
            "\n",
            "Validation set: Average loss: 0.0091, Accuracy: 8245/10000 (82.45%)\n",
            "\n"
          ],
          "name": "stdout"
        },
        {
          "output_type": "stream",
          "text": [
            "Epoch= 10 Loss=0.2197255790233612 Batch_id=781 Accuracy=93.41: 100%|██████████| 782/782 [00:36<00:00, 21.29it/s]\n",
            "  0%|          | 0/782 [00:00<?, ?it/s]"
          ],
          "name": "stderr"
        },
        {
          "output_type": "stream",
          "text": [
            "\n",
            "Validation set: Average loss: 0.0106, Accuracy: 7874/10000 (78.74%)\n",
            "\n"
          ],
          "name": "stdout"
        },
        {
          "output_type": "stream",
          "text": [
            "Epoch= 11 Loss=0.2730891704559326 Batch_id=781 Accuracy=93.82: 100%|██████████| 782/782 [00:36<00:00, 21.33it/s]\n",
            "  0%|          | 0/782 [00:00<?, ?it/s]"
          ],
          "name": "stderr"
        },
        {
          "output_type": "stream",
          "text": [
            "\n",
            "Validation set: Average loss: 0.0090, Accuracy: 8174/10000 (81.74%)\n",
            "\n"
          ],
          "name": "stdout"
        },
        {
          "output_type": "stream",
          "text": [
            "Epoch= 12 Loss=0.0176866352558136 Batch_id=781 Accuracy=95.63: 100%|██████████| 782/782 [00:36<00:00, 21.30it/s]\n",
            "  0%|          | 0/782 [00:00<?, ?it/s]"
          ],
          "name": "stderr"
        },
        {
          "output_type": "stream",
          "text": [
            "\n",
            "Validation set: Average loss: 0.0058, Accuracy: 8757/10000 (87.57%)\n",
            "\n"
          ],
          "name": "stdout"
        },
        {
          "output_type": "stream",
          "text": [
            "Epoch= 13 Loss=0.0526692271232605 Batch_id=781 Accuracy=96.09: 100%|██████████| 782/782 [00:36<00:00, 21.24it/s]\n",
            "  0%|          | 0/782 [00:00<?, ?it/s]"
          ],
          "name": "stderr"
        },
        {
          "output_type": "stream",
          "text": [
            "\n",
            "Validation set: Average loss: 0.0058, Accuracy: 8772/10000 (87.72%)\n",
            "\n"
          ],
          "name": "stdout"
        },
        {
          "output_type": "stream",
          "text": [
            "Epoch= 14 Loss=0.23706050217151642 Batch_id=781 Accuracy=96.34: 100%|██████████| 782/782 [00:36<00:00, 21.20it/s]\n",
            "  0%|          | 0/782 [00:00<?, ?it/s]"
          ],
          "name": "stderr"
        },
        {
          "output_type": "stream",
          "text": [
            "\n",
            "Validation set: Average loss: 0.0058, Accuracy: 8784/10000 (87.84%)\n",
            "\n"
          ],
          "name": "stdout"
        },
        {
          "output_type": "stream",
          "text": [
            "Epoch= 15 Loss=0.14448295533657074 Batch_id=781 Accuracy=96.39: 100%|██████████| 782/782 [00:36<00:00, 21.23it/s]\n",
            "  0%|          | 0/782 [00:00<?, ?it/s]"
          ],
          "name": "stderr"
        },
        {
          "output_type": "stream",
          "text": [
            "\n",
            "Validation set: Average loss: 0.0060, Accuracy: 8738/10000 (87.38%)\n",
            "\n"
          ],
          "name": "stdout"
        },
        {
          "output_type": "stream",
          "text": [
            "Epoch= 16 Loss=0.042295560240745544 Batch_id=781 Accuracy=96.68: 100%|██████████| 782/782 [00:36<00:00, 21.31it/s]\n",
            "  0%|          | 0/782 [00:00<?, ?it/s]"
          ],
          "name": "stderr"
        },
        {
          "output_type": "stream",
          "text": [
            "\n",
            "Validation set: Average loss: 0.0061, Accuracy: 8727/10000 (87.27%)\n",
            "\n"
          ],
          "name": "stdout"
        },
        {
          "output_type": "stream",
          "text": [
            "Epoch= 17 Loss=0.14701016247272491 Batch_id=781 Accuracy=96.80: 100%|██████████| 782/782 [00:36<00:00, 21.25it/s]\n",
            "  0%|          | 0/782 [00:00<?, ?it/s]"
          ],
          "name": "stderr"
        },
        {
          "output_type": "stream",
          "text": [
            "\n",
            "Validation set: Average loss: 0.0060, Accuracy: 8757/10000 (87.57%)\n",
            "\n"
          ],
          "name": "stdout"
        },
        {
          "output_type": "stream",
          "text": [
            "Epoch= 18 Loss=0.4122362732887268 Batch_id=781 Accuracy=97.12: 100%|██████████| 782/782 [00:36<00:00, 21.27it/s]\n",
            "  0%|          | 0/782 [00:00<?, ?it/s]"
          ],
          "name": "stderr"
        },
        {
          "output_type": "stream",
          "text": [
            "\n",
            "Validation set: Average loss: 0.0059, Accuracy: 8782/10000 (87.82%)\n",
            "\n"
          ],
          "name": "stdout"
        },
        {
          "output_type": "stream",
          "text": [
            "Epoch= 19 Loss=0.2572978436946869 Batch_id=781 Accuracy=97.12: 100%|██████████| 782/782 [00:36<00:00, 21.15it/s]\n"
          ],
          "name": "stderr"
        },
        {
          "output_type": "stream",
          "text": [
            "\n",
            "Validation set: Average loss: 0.0059, Accuracy: 8769/10000 (87.69%)\n",
            "\n"
          ],
          "name": "stdout"
        }
      ]
    },
    {
      "cell_type": "markdown",
      "metadata": {
        "id": "nxYuUEDA5iV4",
        "colab_type": "text"
      },
      "source": [
        "# Result visualization"
      ]
    },
    {
      "cell_type": "code",
      "metadata": {
        "id": "x5YklhJu5nQc",
        "colab_type": "code",
        "outputId": "e41cfb8d-f4bc-48f1-a568-ce56903e8196",
        "colab": {
          "base_uri": "https://localhost:8080/",
          "height": 458
        }
      },
      "source": [
        "val_acc_fig, axs = plt.subplots(1,1,figsize=(10,7))\n",
        "axs.plot(test.test_acc)\n",
        "axs.set_title(\"Validation Accuracy\")\n",
        "axs.set_xlabel(\"Epoch\")\n",
        "axs.set_ylabel(\"Accuracy\")\n",
        "val_acc_fig.savefig('/content/gdrive/My Drive/Colab Notebooks/Quiz9/validation_accuracy.jpg')"
      ],
      "execution_count": 11,
      "outputs": [
        {
          "output_type": "display_data",
          "data": {
            "image/png": "[encoded data removed]",
            "text/plain": [
              "<Figure size 720x504 with 1 Axes>"
            ]
          },
          "metadata": {
            "tags": []
          }
        }
      ]
    },
    {
      "cell_type": "code",
      "metadata": {
        "id": "LIkAWvNewpcm",
        "colab_type": "code",
        "outputId": "23699bde-072d-4239-a3f7-c8a9c2ed4f07",
        "colab": {
          "base_uri": "https://localhost:8080/",
          "height": 458
        }
      },
      "source": [
        "val_loss_fig, axs = plt.subplots(1,1,figsize=(10,7))\n",
        "\n",
        "axs.plot(test.test_losses)\n",
        "axs.set_title(\"Validation loss\")\n",
        "axs.set_xlabel(\"Epoch\")\n",
        "axs.set_ylabel(\"Loss\")\n",
        "val_loss_fig.savefig('/content/gdrive/My Drive/Colab Notebooks/Quiz9/validation_loss.jpg')"
      ],
      "execution_count": 12,
      "outputs": [
        {
          "output_type": "display_data",
          "data": {
            "image/png": "[encoded data removed]",
            "text/plain": [
              "<Figure size 720x504 with 1 Axes>"
            ]
          },
          "metadata": {
            "tags": []
          }
        }
      ]
    },
    {
      "cell_type": "code",
      "metadata": {
        "colab_type": "code",
        "outputId": "04aa59c9-11a8-4013-b0e7-f1f248ebf8e6",
        "id": "p6KqY8RC-kFi",
        "colab": {
          "base_uri": "https://localhost:8080/",
          "height": 172
        }
      },
      "source": [
        "dataiter = iter(loader.testloader_for_plot)\n",
        "images, labels = dataiter.next()\n",
        "\n",
        "# print images\n",
        "imshow(torchvision.utils.make_grid(images))\n",
        "print('GroundTruth: ', ' '.join('%5s' % classes[labels[j]] for j in range(4)))"
      ],
      "execution_count": 13,
      "outputs": [
        {
          "output_type": "stream",
          "text": [
            "Clipping input data to the valid range for imshow with RGB data ([0..1] for floats or [0..255] for integers).\n"
          ],
          "name": "stderr"
        },
        {
          "output_type": "stream",
          "text": [
            "GroundTruth:  horse horse  frog  bird\n"
          ],
          "name": "stdout"
        },
        {
          "output_type": "display_data",
          "data": {
            "image/png": "[encoded data removed]",
            "text/plain": [
              "<Figure size 432x288 with 1 Axes>"
            ]
          },
          "metadata": {
            "tags": []
          }
        }
      ]
    },
    {
      "cell_type": "markdown",
      "metadata": {
        "id": "DAx4QPHVpoC8",
        "colab_type": "text"
      },
      "source": [
        "Okay, now let us see what the neural network thinks these examples above are:\n",
        "\n"
      ]
    },
    {
      "cell_type": "code",
      "metadata": {
        "id": "HVLjlssWpoC9",
        "colab_type": "code",
        "colab": {}
      },
      "source": [
        "outputs = net(images.cuda())"
      ],
      "execution_count": 0,
      "outputs": []
    },
    {
      "cell_type": "markdown",
      "metadata": {
        "id": "u8OTHZEApoC_",
        "colab_type": "text"
      },
      "source": [
        "The outputs are energies for the 10 classes.\n",
        "Higher the energy for a class, the more the network\n",
        "thinks that the image is of the particular class.\n",
        "So, let's get the index of the highest energy:\n",
        "\n"
      ]
    },
    {
      "cell_type": "code",
      "metadata": {
        "id": "ABRIDW3lpoDA",
        "colab_type": "code",
        "outputId": "cf301df9-3921-47c4-eba4-d95fd32033ea",
        "colab": {
          "base_uri": "https://localhost:8080/",
          "height": 34
        }
      },
      "source": [
        "_, predicted = torch.max(outputs, 1)\n",
        "\n",
        "print('Predicted: ', ' '.join('%5s' % classes[predicted[j]]\n",
        "                              for j in range(4)))"
      ],
      "execution_count": 15,
      "outputs": [
        {
          "output_type": "stream",
          "text": [
            "Predicted:  horse horse  frog  bird\n"
          ],
          "name": "stdout"
        }
      ]
    },
    {
      "cell_type": "markdown",
      "metadata": {
        "id": "eDdwPBl8poDF",
        "colab_type": "text"
      },
      "source": [
        "That looks waaay better than chance, which is 10% accuracy (randomly picking\n",
        "a class out of 10 classes).\n",
        "Seems like the network learnt something.\n",
        "\n",
        "Hmmm, what are the classes that performed well, and the classes that did\n",
        "not perform well:\n",
        "\n"
      ]
    },
    {
      "cell_type": "code",
      "metadata": {
        "id": "pDNFuDEDpoDG",
        "colab_type": "code",
        "outputId": "1f59169e-2c74-4701-fea9-7cf61125be10",
        "colab": {
          "base_uri": "https://localhost:8080/",
          "height": 204
        }
      },
      "source": [
        "from tqdm import tqdm\n",
        "\n",
        "class_correct = list(0. for i in range(10))\n",
        "class_total = list(0. for i in range(10))\n",
        "with torch.no_grad():\n",
        "  pbar = tqdm(loader.testloader)\n",
        "  for i, (data, target) in enumerate(pbar):\n",
        "    data, target = data.to(device), target.to(device)\n",
        "    outputs = net(data)\n",
        "    _, predicted = torch.max(outputs, 1)\n",
        "    c = (predicted == target).squeeze()\n",
        "    for i in range(4):\n",
        "        label = target[i]\n",
        "        class_correct[label] += c[i].item()\n",
        "        class_total[label] += 1\n",
        "\n",
        "\n",
        "for i in range(10):\n",
        "  print('Accuracy of %5s : %2d %%' % (classes[i], 100 * class_correct[i] / class_total[i]))"
      ],
      "execution_count": 16,
      "outputs": [
        {
          "output_type": "stream",
          "text": [
            "100%|██████████| 157/157 [00:03<00:00, 51.04it/s]\n"
          ],
          "name": "stderr"
        },
        {
          "output_type": "stream",
          "text": [
            "Accuracy of plane : 89 %\n",
            "Accuracy of   car : 94 %\n",
            "Accuracy of  bird : 74 %\n",
            "Accuracy of   cat : 68 %\n",
            "Accuracy of  deer : 85 %\n",
            "Accuracy of   dog : 82 %\n",
            "Accuracy of  frog : 90 %\n",
            "Accuracy of horse : 93 %\n",
            "Accuracy of  ship : 93 %\n",
            "Accuracy of truck : 95 %\n"
          ],
          "name": "stdout"
        }
      ]
    }
  ]
}